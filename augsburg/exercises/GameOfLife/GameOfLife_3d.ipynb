{
 "cells": [
  {
   "cell_type": "markdown",
   "metadata": {},
   "source": [
    "# Game of Life in 3d"
   ]
  },
  {
   "cell_type": "code",
   "execution_count": null,
   "metadata": {},
   "outputs": [],
   "source": [
    "import numpy as np \n",
    "from scipy.ndimage.filters import convolve\n",
    "import time\n",
    "\n",
    "def update3d(world,mode='wrap',R=(3,3,4,4)):\n",
    "    \"\"\"determine the next generation in the 3d game of life\n",
    "    \"\"\"\n",
    "    if not type(R) is tuple:\n",
    "        R = tuple(map(int,str(R)))\n",
    "    \n",
    "    v = np.ones((3,3,3))\n",
    "    v[1,1,1] = 0 \n",
    "    nr_neighbors = convolve(world, v, mode=mode)\n",
    "    world = world & ((nr_neighbors >= R[0]) &( nr_neighbors <= R[1]))\n",
    "    world = world | ((nr_neighbors >= R[2]) & (nr_neighbors <= R[3]))\n",
    "    return world\n",
    "def cube(x0,d):\n",
    "    return ( slice(x0-d//2,x0+d//2),slice(x0-d//2,x0+d//2),slice(x0-d//2,x0+d//2))\n",
    "v = np.ones((3,3,3))\n",
    "v[1,1,1] = 0"
   ]
  },
  {
   "cell_type": "code",
   "execution_count": null,
   "metadata": {},
   "outputs": [],
   "source": [
    "s = 2\n",
    "nx = s*32\n",
    "random_world = (np.random.randint(0,6,size=(nx,nx,nx))==0).astype(np.uint8)\n",
    "m = np.zeros_like(random_world)\n",
    "m[cube(16,13)] = 1\n",
    "random_world = m * random_world"
   ]
  },
  {
   "cell_type": "code",
   "execution_count": null,
   "metadata": {},
   "outputs": [],
   "source": [
    "small_cube = np.zeros((nx,nx,nx),dtype=np.uint8)\n",
    "small_cube[cube(s*16,3)] = 1"
   ]
  },
  {
   "cell_type": "code",
   "execution_count": null,
   "metadata": {},
   "outputs": [],
   "source": [
    "world = small_cube"
   ]
  },
  {
   "cell_type": "code",
   "execution_count": null,
   "metadata": {},
   "outputs": [],
   "source": [
    "import k3d\n",
    "plot = k3d.plot(grid_visible=False)\n",
    "plt_vox = k3d.voxels(np.ones_like(world,dtype=np.uint8), bounds=(0,nx,0,nx,0,nx),\n",
    "                    outlines=False)\n",
    "plot += plt_vox\n",
    "plot.display()\n",
    "time.sleep(1)\n",
    "plot.grid_auto_fit = False\n",
    "plot.camera_auto_fit = False\n",
    "plt_vox.voxels = world"
   ]
  },
  {
   "cell_type": "code",
   "execution_count": null,
   "metadata": {},
   "outputs": [],
   "source": [
    "# world = random_world\n",
    "mode = 'wrap'\n",
    "for i in range(24):\n",
    "    world = update3d(world,mode=mode,R=4526) # (4526,) \n",
    "    plt_vox.voxels = world.astype(np.uint8)\n",
    "    #plt_vox.voxels = convolve(world, v, mode=mode).astype(np.uint8)"
   ]
  },
  {
   "cell_type": "code",
   "execution_count": null,
   "metadata": {},
   "outputs": [],
   "source": []
  }
 ],
 "metadata": {
  "kernelspec": {
   "display_name": "Python 3",
   "language": "python",
   "name": "python3"
  },
  "language_info": {
   "codemirror_mode": {
    "name": "ipython",
    "version": 3
   },
   "file_extension": ".py",
   "mimetype": "text/x-python",
   "name": "python",
   "nbconvert_exporter": "python",
   "pygments_lexer": "ipython3",
   "version": "3.7.3"
  },
  "nbTranslate": {
   "displayLangs": [
    "en",
    "pl"
   ],
   "hotkey": "alt-t",
   "langInMainMenu": true,
   "sourceLang": "pl",
   "targetLang": "en",
   "useGoogleTranslate": true
  }
 },
 "nbformat": 4,
 "nbformat_minor": 4
}
